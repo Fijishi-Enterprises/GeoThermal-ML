{
 "cells": [
  {
   "cell_type": "markdown",
   "metadata": {},
   "source": [
    "Geothermal machine learning analysis: Great Basin \n",
    "---\n",
    "\n",
    "This notebook is a part of the GTcloud.jl: GeoThermal Cloud for Machine Learning.\n",
    "\n",
    "<div style=\"text-align: left; padding-bottom: 30px;\">\n",
    "    <img src=\"../../logos/geothermalcloud-small.png\" alt=\"geothermalcloud\" width=25%  max-width=125px;/>\n",
    "</div>\n",
    "\n",
    "Machine learning analyses are performed using the **SmartTensors** machine learning framework.\n",
    "\n",
    "<div style=\"text-align: left; padding-bottom: 30px;\">\n",
    "\t<img src=\"../../logos/SmartTensorsNewSmaller.png\" alt=\"SmartTensors\" width=25%  max-width=125px;/>\n",
    "</div>\n",
    "\n",
    "This notebook demonstrates how the **NMFk** module of **SmartTensors** can be applied to perform unsupervised geothermal machine-learning analyses.\n",
    "\n",
    "<div style=\"text-align: left; padding-bottom: 30px;\">\n",
    "\t<img src=\"../../logos/nmfk-logo.png\" alt=\"nmfk\" width=25%  max-width=125px;/>\n",
    "</div>\n",
    "\n",
    "More information how the ML results are interpreted to provide geothermal insights is discussed in our research paper."
   ]
  },
  {
   "cell_type": "markdown",
   "metadata": {},
   "source": [
    "## Introduction\n",
    "\n",
    "- The Great Basin is the largest area of contiguous endorheic watersheds in North America\n",
    "- It spans nearly all of Nevada, much of Oregon and Utah, and portions of California, Idaho, Wyoming, and Baja California, Mexico\n",
    "- The Great Basin includes multiple geothermal reservoirs ranging from low- to high-temperature\n",
    "- The Great Basin has huge potential geothermal potential \n",
    "- Further explorations requires understanding of the local / regional spatial / temporal patterns in various geothermal-related attributes  \n",
    "- Here, we apply our unsupervised machine learning method **NMFk** to analyze the available geothermal and geochemical  data to better understand the spatial distribution of the hydrothermal resources\n",
    "- Our study area (below) includes 14,258 data points\n",
    "\n",
    "\n",
    "<div style=\"text-align: left; padding-bottom: 30px; padding-top: 30px;\">\n",
    "\t<img src=\"../img/greatbasin_data_locs_alt.png\" alt=\"greatbasin_data_locs_alt\" width=50%  max-width=225px;/>\n",
    "</div>"
   ]
  },
  {
   "cell_type": "markdown",
   "metadata": {},
   "source": [
    "## Import required libraries for this work\n",
    "\n",
    "If **NMFk** is not installed, first execute in the Julia REPL `import Pkg; Pkg.add(\"NMFk\"); Pkg.add(\"DelimitedFiles\"); Pkg.add(\"JLD\"); Pkg.add(\"Gadfly\"); Pkg.add(\"Cairo\"); Pkg.add(\"Fontconfig\"); Pkg.add(\"Mads\")`."
   ]
  },
  {
   "cell_type": "code",
   "execution_count": null,
   "metadata": {},
   "outputs": [],
   "source": [
    "import Cairo\n",
    "import NMFk\n",
    "import DelimitedFiles\n",
    "import JLD\n",
    "import Gadfly\n",
    "import Fontconfig\n",
    "import Mads\n",
    "import Revise"
   ]
  },
  {
   "cell_type": "markdown",
   "metadata": {},
   "source": [
    "## Load and pre-process the data"
   ]
  },
  {
   "cell_type": "markdown",
   "metadata": {},
   "source": [
    "### Setup the working directory containing the Great Basin data"
   ]
  },
  {
   "cell_type": "code",
   "execution_count": null,
   "metadata": {},
   "outputs": [],
   "source": [
    "cd(\"/Users/vvv/Julia/GTcloud-SmartTensors.jl/GreatBasin\");"
   ]
  },
  {
   "cell_type": "markdown",
   "metadata": {},
   "source": [
    "### Load the data file"
   ]
  },
  {
   "cell_type": "code",
   "execution_count": null,
   "metadata": {},
   "outputs": [],
   "source": [
    "Xdat, headers = DelimitedFiles.readdlm(\"data/gb_duplicatedRows.txt\", ',', header=true);"
   ]
  },
  {
   "cell_type": "markdown",
   "metadata": {},
   "source": [
    "### Define names of the data attributes (matrix columns)"
   ]
  },
  {
   "cell_type": "code",
   "execution_count": null,
   "metadata": {},
   "outputs": [],
   "source": [
    "attributes = [\"Temperature\", \"Quartz\", \"Chalcedony\", \"pH\", \"TDS\", \"Al\", \"B\", \"Ba\", \"Be\", \"Br\", \"Ca\", \"Cl\", \"HCO3\", \"K\", \"Li\", \"Mg\", \"Na\", \"δO18\"]\n",
    "attributes_long = [\"Temperature (C)\", \"GTM quartz (C)\", \"GTM chalcedony (C)\", \"pH ()\", \"TDS (ppm)\", \"Al (ppm)\", \"B (ppm)\", \"Ba (ppm)\", \"Be (ppm)\", \"Br (ppm)\", \"Ca (ppm)\", \"Cl (ppm)\", \"HCO3 (ppm)\", \"K (ppm)\", \"Li (ppm)\", \"Mg (ppm)\", \"Na (ppm)\", \"δO18 (‰)\"];"
   ]
  },
  {
   "cell_type": "markdown",
   "metadata": {},
   "source": [
    "Short attribute names are used for coding.\n",
    "\n",
    "Long attribute names are used for plotting and visualization."
   ]
  },
  {
   "cell_type": "markdown",
   "metadata": {},
   "source": [
    "### Define location coordinates"
   ]
  },
  {
   "cell_type": "code",
   "execution_count": null,
   "metadata": {},
   "outputs": [],
   "source": [
    "xcoord = Array{Float32}(Xdat[:, 2])\n",
    "ycoord = Array{Float32}(Xdat[:, 1]);"
   ]
  },
  {
   "cell_type": "markdown",
   "metadata": {},
   "source": [
    "### Pre-processing"
   ]
  },
  {
   "cell_type": "code",
   "execution_count": null,
   "metadata": {},
   "outputs": [],
   "source": [
    "Xdat[Xdat .== \"\"] .= NaN\n",
    "X = convert.(Float32, Xdat[:,3:end])\n",
    "X[:,16] .= abs.(X[:,16])\n",
    "X[:,18] .+= 20 # rescale δO18 data (‰)\n",
    "\n",
    "nattributes = length(attributes)\n",
    "npoints = size(Xdat, 1)\n",
    "\n",
    "NMFk.datanalytics(X, attributes; dims=2);"
   ]
  },
  {
   "cell_type": "markdown",
   "metadata": {},
   "source": [
    "It is important to note that a lot of the attribute data are missing.\n",
    "\n",
    "![gb_duplicatedRows](../data/gb_duplicatedRows.png)\n",
    "\n",
    "Close to complete records are available only for `Temperature`.\n",
    "\n",
    "Data for `TDS`, `Al` and `δO18` are heavily missing.\n",
    "\n",
    "Even though, the dataset is very sparse, our ML methods can analyze the inputs.\n",
    "\n",
    "Most of the commonly used ML methods cannot process datasets that are sparse."
   ]
  },
  {
   "cell_type": "markdown",
   "metadata": {},
   "source": [
    "### Log-transformation\n",
    "\n",
    "Attribute values are log-transformed to better capture the order of magnitude variability.\n",
    "\n",
    "All attributes execpt for `Quartz`, `Chalcedony` and `pH` are log-transformed."
   ]
  },
  {
   "cell_type": "code",
   "execution_count": null,
   "metadata": {},
   "outputs": [],
   "source": [
    "logv = [true, false, false, false,  true, true, true, true, true, true, true, true, true, true, true, true, true, true]\n",
    "[attributes logv]"
   ]
  },
  {
   "cell_type": "code",
   "execution_count": null,
   "metadata": {},
   "outputs": [],
   "source": [
    "NMFk.datanalytics(X, attributes; dims=2, logv=logv);"
   ]
  },
  {
   "cell_type": "markdown",
   "metadata": {},
   "source": [
    "#### Define and normalize the data matrix"
   ]
  },
  {
   "cell_type": "code",
   "execution_count": null,
   "metadata": {},
   "outputs": [],
   "source": [
    "Xnl, xlmin, xlmax, zflag = NMFk.normalizematrix_col(X; logv=logv);"
   ]
  },
  {
   "cell_type": "markdown",
   "metadata": {},
   "source": [
    "### Define a range for number of signatures to be explored "
   ]
  },
  {
   "cell_type": "code",
   "execution_count": null,
   "metadata": {},
   "outputs": [],
   "source": [
    "nkrange = 2:10;"
   ]
  },
  {
   "cell_type": "markdown",
   "metadata": {},
   "source": [
    "### Define directory with exsiting model runs"
   ]
  },
  {
   "cell_type": "code",
   "execution_count": null,
   "metadata": {},
   "outputs": [],
   "source": [
    "resultdir = \"results\";"
   ]
  },
  {
   "cell_type": "markdown",
   "metadata": {},
   "source": [
    "#### Define the number of NMF runs to be exectuted\n",
    "\n",
    "The higher the NMF runs, the better.\n",
    "In addition, convergence has been already explored using different numbers of NMF runs."
   ]
  },
  {
   "cell_type": "code",
   "execution_count": null,
   "metadata": {},
   "outputs": [],
   "source": [
    "nruns = 640;"
   ]
  },
  {
   "cell_type": "markdown",
   "metadata": {},
   "source": [
    "## Perform ML analyses\n",
    "\n",
    "The **NMFk** algorithm factorizes the normalized data matrix `Xn` into `W` and `H` matrices.\n",
    "For more information, check out the [**NMFk** website](https://github.com/SmartTensors/NMFk.jl)"
   ]
  },
  {
   "cell_type": "code",
   "execution_count": null,
   "metadata": {},
   "outputs": [],
   "source": [
    "W, H, fitquality, robustness, aic = NMFk.execute(Xnl, nkrange, nruns; cutoff=0.4, resultdir=resultdir, casefilename=\"nmfk-nl\", load=true)\n",
    "W, H, fitquality, robustness, aic = NMFk.load(nkrange, nruns; cutoff=0.4, resultdir=resultdir, casefilename=\"nmfk-nl\");"
   ]
  },
  {
   "cell_type": "markdown",
   "metadata": {},
   "source": [
    "Here, the **NMFk** results are loaded from a prior ML run.\n",
    "\n",
    "As seen from the output above, the NMFk analyses identified that the optimal number of geothermal signatures in the dataset **3**.\n",
    "\n",
    "Solutions with a number of signatures less than **3** are underfitting.\n",
    "\n",
    "Solutions with a number of signatures greater than **3** are overfitting and unacceptable.\n",
    "\n",
    "The set of acceptable solutions are defined as follows:"
   ]
  },
  {
   "cell_type": "code",
   "execution_count": null,
   "metadata": {},
   "outputs": [],
   "source": [
    "NMFk.getks(nkrange, robustness[nkrange], cutoff=0.4)"
   ]
  },
  {
   "cell_type": "markdown",
   "metadata": {},
   "source": [
    "The acceptable solutions contain 2 and 3 signatures."
   ]
  },
  {
   "cell_type": "markdown",
   "metadata": {},
   "source": [
    "### Post-processing NMFk results\n",
    "\n",
    "#### Number of signatures\n",
    "\n",
    "Plot representing solution quality (fit) and silhouette width (robustness) for different number of signatures `k`:"
   ]
  },
  {
   "cell_type": "code",
   "execution_count": null,
   "metadata": {},
   "outputs": [],
   "source": [
    "resultdirpost = \"results-postprocessing-nl-$(nruns)\"\n",
    "figuredirpost = \"figures-postprocessing-nl-$(nruns)\";"
   ]
  },
  {
   "cell_type": "code",
   "execution_count": null,
   "metadata": {},
   "outputs": [],
   "source": [
    "NMFk.plot_feature_selecton(nkrange, fitquality, robustness; figuredir=figuredirpost)"
   ]
  },
  {
   "cell_type": "markdown",
   "metadata": {},
   "source": [
    "The plot above also demonstrates that the accceptable solutions contain 2 and 3 signatures.\n",
    "Note, any solution is accepted, if the robustness >0.25.\n",
    "\n",
    "#### Analysis of the optimal solution\n",
    "\n",
    "The ML solution with the optimal number of signatures (3) is further analyzed as follows:"
   ]
  },
  {
   "cell_type": "code",
   "execution_count": null,
   "metadata": {},
   "outputs": [],
   "source": [
    "Sorder, Wclusters, Hclusters = NMFk.clusterresults(NMFk.getk(nkrange, robustness[nkrange]), W, H, string.(collect(1:npoints)), attributes; lon=xcoord, lat=ycoord, resultdir=resultdirpost, figuredir=figuredirpost, ordersignal=:Wcount, Hcasefilename=\"attributes\", Wcasefilename=\"locations\", biplotcolor=:WH, sortmag=false, biplotlabel=:H, point_size_nolabel=2Gadfly.pt, point_size_label=4Gadfly.pt)"
   ]
  },
  {
   "cell_type": "markdown",
   "metadata": {},
   "source": [
    "The geothermal attributes are clustered into **3** groups:"
   ]
  },
  {
   "cell_type": "code",
   "execution_count": null,
   "metadata": {},
   "outputs": [],
   "source": [
    "Mads.display(\"results-postprocessing-nl-640/attributes-3-groups.txt\")"
   ]
  },
  {
   "cell_type": "markdown",
   "metadata": {},
   "source": [
    "This grouping is based on analyses of the attribute matrix `W`:\n",
    "\n",
    "![attributes-3-labeled-sorted](../figures-postprocessing-nl-640/attributes-3-labeled-sorted.png)\n",
    "\n",
    "The well locations are also clustered into **3** groups.\n",
    "The grouping is based on analyses of the location matrix `H`.\n",
    "\n",
    "A spatial map of the locations is obtained:\n",
    "\n",
    "![locations-3-map](../figures-postprocessing-nl-640/locations-3-map.png)\n",
    "\n",
    "The map [../figures-postprocessing-nl-640/locations-3-map.html](../figures-postprocessing-nl-640/locations-3-map.html) provides interactive visualization of the extracted location groups (the html file can be also openned with any browser)."
   ]
  },
  {
   "cell_type": "markdown",
   "metadata": {},
   "source": [
    "### Discussion of NMFk results\n",
    "\n",
    "Our ML algorithm extracted **3** signatures in the analyzed dataset.\n",
    "\n",
    "Signature **B** is detected at 5201 locations shown in the map above.\n",
    "\n",
    "At these locations, `Temperature`, `Quartz`, `Chalcedony` and `Al` appear to be elevated.\n",
    "There is general correlations between `Temperature`, `Quartz`, `Chalcedony` and `Al` observations at these locations.\n",
    "All these locations can be identified as geothermal resources with high prospectivity.\n",
    "\n",
    "Signature **C** is detected at 2801 locations shown in the map above.\n",
    "\n",
    "At these locations, `Temperature` is also elevated. However, `Quartz`, `Chalcedony` and `Al` are low.\n",
    "However, `Ca` and `Mg` are elevated as well.\n",
    "All these locations can be identified as geothermal resources with lower prospectivity.\n",
    "Additional analyses and data acquisition activities are needed to define their prospectivity.\n",
    "\n",
    "Signature **A** is detected at 6256 locations shown in the map above.\n",
    "\n",
    "At these locations, `TDS`, `B` and `Br` are elevated.\n",
    "However, the `Temperature` is low.\n",
    "These locations can be identified as geothermal resources with low prospectivity.\n",
    "\n",
    "Biplots are also generated by the scripts presented above to map the interelations between the attributes as defined by the extraced **3** signatures which can be viewed also as basis vectors.\n",
    "The interpretation of the biplots is consistent with the way eigen-analysis (SVD/PCA) biplots are also interpreted.\n",
    "\n",
    "![attributes-3-biplots-labeled](../figures-postprocessing-nl-640/attributes-3-biplots-labeled.png)\n",
    "\n",
    "It clear from the figure above, that `Temperature`, `Quartz`, `Chalcedony` and `Al` are generally collocated.\n",
    "\n",
    "`Ca` and `Mg` are also collocated.\n",
    "\n",
    "Similarly, `K`, `Li` and `Na` are also collocated.\n",
    "\n",
    "The coloring of the dots represents the ML clustering of the attributes into **3** groups.\n",
    "\n",
    "The figure demonstrates that ML algorithm successfully identified attributes which have generally similar spatial patterns.\n",
    "\n",
    "The biplots can also map the locations at which the data are collected as shown in the figure below.\n",
    "\n",
    "![all-3-biplots-labeled](../figures-postprocessing-nl-640/all-3-biplots-labeled.png)\n",
    "\n",
    "The coloring of the dots represents the ML clustering of the attributes and locations into **3** groups each (**6** groups in total).\n",
    "\n",
    "The biplots above show how the attribute data is applied to label the locations so that they are optimally grouped into **3** locations clusters."
   ]
  },
  {
   "cell_type": "markdown",
   "metadata": {},
   "source": [
    "#### Spatial maps of the extracted signatures\n",
    "\n",
    "The 3 extracted signatures are spatially mapped within the expolored domain.\n",
    "\n",
    "The maps below show the estimated importance of 3 signatures in the Great Basin (red: high; green: low).\n",
    "\n",
    "Signature B (high) and C (mid) represent areas with geothermal prospectivty.\n",
    "\n",
    "Signature A define areas with low geothermal prospectivty according to performed analyses.\n",
    "\n",
    "It is important to note that these spatial maps are generated using sptatial interpolation methods.\n",
    "There are uncertainties associated with these predictions of geothermal prospectivity.\n",
    "\n",
    "##### Signature A: low geothermal prospectivty\n",
    "\n",
    "<div style=\"text-align: left; padding-bottom: 30px;\">\n",
    "    <img src=\"../figures-postprocessing-nl-640/Signal_A_map_inversedistance.png\" alt=\"Signal_A_map_inversedistance\" width=25%  max-width=125px;/>\n",
    "</div>\n",
    "\n",
    "##### Signature B:  high geothermal prospectivty\n",
    "\n",
    "<div style=\"text-align: left; padding-bottom: 30px;\">\n",
    "    <img src=\"../figures-postprocessing-nl-640/Signal_B_map_inversedistance.png\" alt=\"Signal_B_map_inversedistance\" width=25%  max-width=125px;/>\n",
    "</div>\n",
    "\n",
    "##### Signature C:  intermediate geothermal prospectivty\n",
    "\n",
    "<div style=\"text-align: left; padding-bottom: 30px;\">\n",
    "    <img src=\"../figures-postprocessing-nl-640/Signal_C_map_inversedistance.png\" alt=\"Signal_C_map_inversedistance\" width=25%  max-width=125px;/>\n",
    "</div>"
   ]
  }
 ],
 "metadata": {
  "kernelspec": {
   "display_name": "Julia 1.5.4",
   "language": "julia",
   "name": "julia-1.5"
  },
  "language_info": {
   "file_extension": ".jl",
   "mimetype": "application/julia",
   "name": "julia",
   "version": "1.5.4"
  }
 },
 "nbformat": 4,
 "nbformat_minor": 4
}
