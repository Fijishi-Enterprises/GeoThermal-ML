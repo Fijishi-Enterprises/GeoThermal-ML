{
 "cells": [
  {
   "cell_type": "markdown",
   "metadata": {},
   "source": [
    "# NMFk on the Southwest New Mexico geothermal data\n",
    "- Codes for the paper that we wrote for analyzing geothermal data for the Southwest New Mexico site"
   ]
  },
  {
   "cell_type": "markdown",
   "metadata": {},
   "source": [
    "## Import required libraries for this work"
   ]
  },
  {
   "cell_type": "code",
   "execution_count": null,
   "metadata": {},
   "outputs": [],
   "source": [
    "import DelimitedFiles\n",
    "import NMFk\n",
    "import Gadfly"
   ]
  },
  {
   "cell_type": "markdown",
   "metadata": {},
   "source": [
    "## Read data and process the data for NMFk run"
   ]
  },
  {
   "cell_type": "code",
   "execution_count": null,
   "metadata": {},
   "outputs": [],
   "source": [
    "d, h = DelimitedFiles.readdlm(\"data/Pepin_PCA_Input_Data_LANL.csv\", ','; header=true)\n",
    "\n",
    "attributes_col = vec(permutedims(h))\n",
    "attributes_short = [\"Boron\"; \"Gravity\"; \"Magnetic\"; \"Dikes\"; \"Drainage\"; \"FaultInter\"; \"QuatFaults\"; \"Seismicity\"; \"NMFaults\"; \"Springs\"; \"Vents\"; \"Lithium\"; \"Precip\"; \"Air_Temp\"; \"Silica\"; \"Subcrop\"; \"WT_Gradient\"; \"WT_Elev\"; \"Heatflow\"; \"GS_Elev\"; \"DTW\"; \"Crst_Thick\"; \"Bsmt_Depth\"]\n",
    "attributes_long = uppercasefirst.(lowercase.([\"Boron Concentration\"; \"Gravity Anomaly\"; \"Magnetic Intensity\"; \"Volcanic Dike Density\"; \"Drainage Density\"; \"Fault Intersection Density\"; \"Quaternary Fault Density\"; \"Seismicity\"; \"State Map Fault Density\"; \"Spring Density\"; \"Volcanic Vent Density\"; \"Lithium Concentration\"; \"Precipitation\"; \"Air Temperature\"; \"Silica Geothermometer\"; \"Subcrop Permeability\"; \"Hydraulic Gradient\"; \"Watertable Elevation\"; \"Heat flow\"; \"Groundsurface Elevation\"; \"Watertable Depth\"; \"Crustal Thickness\"; \"Depth to Basement\"]))\n",
    "attributes_long_new = uppercasefirst.(lowercase.([\"Boron\"; \"Gravity anomaly\"; \"Magnetic intensity\"; \"Volcanic dike density\"; \"Drainage density\"; \"Fault intersection density\"; \"Quaternary fault density\"; \"Seismicity\"; \"State map fault density\"; \"Spring density\"; \"Volcanic vent density\"; \"Lithium\"; \"Precipitation\"; \"Air temperature\"; \"Silica geothermometer\"; \"Subcrop permeability\"; \"Hydraulic gradient\"; \"Watertable elevation\"; \"Heat flow\"; \"Groundsurface elevation\"; \"Watertable depth\"; \"Crustal thickness\"; \"Depth to basement\"]))\n",
    "\n",
    "# ATTRIBUTES ORDER SHOULD BE DEFINED HERE FOR ALL THE ATTRIBUTES!!!\n",
    "attributes_ordered = [\"Boron concentration\", \"Lithium concentration\", \"Drainage density\", \"Spring density\", \"Hydraulic gradient\", \"Precipitation\", \"Gravity anomaly\", \"Magnetic intensity\", \"Seismicity\", \"Silica geothermometer\", \"Heat flow\", \"Crustal thickness\", \"Depth to basement\", \"Fault intersection density\", \"Quaternary fault density\", \"State map fault density\", \"Volcanic dike density\", \"Volcanic vent density\"]\n",
    "\n",
    "locations_short = [\"Alamos spr\";\n",
    "\"Allen spr\";\n",
    "\"Apache well\";\n",
    "\"Aragon spr\";\n",
    "\"Ash spr\";\n",
    "\"B.Iorio well\";\n",
    "\"Cliff spr\";\n",
    "\"Dent well\";\n",
    "\"Derry spr\";\n",
    "\"Faywood spr\";\n",
    "\"Fed H1 well\";\n",
    "\"Freiborn spr\";\n",
    "\"Garton well\";\n",
    "\"Gila spr 1\";\n",
    "\"Gila spr 2\";\n",
    "\"Goat spr\";\n",
    "\"Jerry well\";\n",
    "\"Kennecott well\";\n",
    "\"Laguna Pbl\";\n",
    "\"Lightning Dock\";\n",
    "\"Los Alturas\";\n",
    "\"Mangas spr\";\n",
    "\"Mimbres spr\";\n",
    "\"Ojitos spr\";\n",
    "\"Ojo Caliente\";\n",
    "\"Ojo Canas\";\n",
    "\"Pueblo well\";\n",
    "\"Radium spr\";\n",
    "\"Rainbow spr\";\n",
    "\"Riverside well\";\n",
    "\"Sacred spr\";\n",
    "\"Socorro Can\";\n",
    "\"Spring\";\n",
    "\"Spring Can\";\n",
    "\"T or C spr\";\n",
    "\"Turkey spr\";\n",
    "\"Victoria well\";\n",
    "\"Warm spr\";\n",
    "\"Well 1\";\n",
    "\"Well 2\";\n",
    "\"Well 3\";\n",
    "\"Well 4\";\n",
    "\"Well 5\";\n",
    "\"Carne well\"]\n",
    "\n",
    "locations_long = [\"Alamos Spring\";\n",
    "\"Allen Springs\";\n",
    "\"Apache Tejo Warm Springs well\";\n",
    "\"Aragon Springs\";\n",
    "\"Ash Spring\";\n",
    "\"B. Iorio 1 well\";\n",
    "\"Cliff Warm Spring\";\n",
    "\"Dent windmill well\";\n",
    "\"Derry Warm Springs\";\n",
    "\"Faywood Hot Springs\";\n",
    "\"Federal H 1 well\";\n",
    "\"Freiborn Canyon Spring\";\n",
    "\"Garton well\";\n",
    "\"Gila Hot Springs 1\";\n",
    "\"Gila Hot Springs 2\";\n",
    "\"Goat Camp Spring\";\n",
    "\"Jerry well\";\n",
    "\"Kennecott Warm Springs well\";\n",
    "\"Laguna Pueblo\";\n",
    "\"Lightning Dock\";\n",
    "\"Los Alturas Estates\";\n",
    "\"Mangas Springs\";\n",
    "\"Mimbres Hot Springs\";\n",
    "\"Ojitos Springs\";\n",
    "\"Ojo Caliente\";\n",
    "\"Ojo De las Canas\";\n",
    "\"Pueblo windmill well\";\n",
    "\"Radium Hot Springs\";\n",
    "\"Rainbow Spring\";\n",
    "\"Riverside Store well\";\n",
    "\"Sacred Spring\";\n",
    "\"Socorro Canyon\";\n",
    "\"Spring\";\n",
    "\"Spring Canyon Warm Spring\";\n",
    "\"Truth or Consequences spring\";\n",
    "\"Turkey Creek Spring\";\n",
    "\"Victoria Land and Cattle Co. well\";\n",
    "\"Warm Springs\";\n",
    "\"Well 1\";\n",
    "\"Well 2\";\n",
    "\"Well 3\";\n",
    "\"Well 4\";\n",
    "\"Well 5\";\n",
    "\"Well south of Carne\"]\n",
    "\n",
    "dindex = d[:,end] .== 1\n",
    "rows = convert.(Int32, d[dindex,end-1])\n",
    "locations = locations_short[rows]\n",
    "\n",
    "lat = d[dindex, 2]\n",
    "lon = d[dindex, 3]"
   ]
  },
  {
   "cell_type": "markdown",
   "metadata": {},
   "source": [
    "### Set up attributes to cancel from the attribute list, set up figure and result directories, normalize the data matrix for NMFk run"
   ]
  },
  {
   "cell_type": "code",
   "execution_count": null,
   "metadata": {},
   "outputs": [],
   "source": [
    "attributes_remove = uppercasefirst.(lowercase.([\"Air Temperature\"; \"Subcrop Permeability\"; \"Watertable Elevation\"; \"Groundsurface Elevation\"; \"Watertable Depth\"]))\n",
    "\n",
    "figuredir = \"figures-case01\"\n",
    "resultdir = \"results-case01\"\n",
    "\n",
    "index_remove = indexin(attributes_remove, attributes_long)\n",
    "attributes_cols = trues(length(attributes_long))\n",
    "attributes_cols[index_remove] .= false\n",
    "cols = vec(4:26)[attributes_cols]\n",
    "attributes = attributes_long[cols .- 3]\n",
    "\n",
    "# mask_locations_pred = indexin(locations, locations_pred) .!= nothing\n",
    "# mask_attribute_pred = indexin(attributes, [\"Heat flow\"]) .!= nothing\n",
    "\n",
    "X = permutedims(d[dindex, cols])\n",
    "\n",
    "Xu, nmin, nmax = NMFk.normalizematrix_row!(X)\n",
    "\n",
    "nkrange = 2:10"
   ]
  },
  {
   "cell_type": "markdown",
   "metadata": {},
   "source": [
    "## Run the NMFk on the normalized matrix and plot the results"
   ]
  },
  {
   "cell_type": "code",
   "execution_count": null,
   "metadata": {},
   "outputs": [],
   "source": [
    "W, H, fitquality, robustness, aic = NMFk.execute(Xu, nkrange, 1000; resultdir=resultdir, load=true)\n",
    "W, H, fitquality, robustness, aic = NMFk.load(nkrange, 1000; resultdir=resultdir)\n",
    "\n",
    "NMFk.plot_signal_selecton(nkrange, fitquality, robustness; figuredir=figuredir)\n",
    "NMFk.clusterresults(NMFk.getks(nkrange, robustness[nkrange]), W, H, attributes, string.(collect(1:size(locations, 1))); lat=lat, lon=lon, resultdir=resultdir, figuredir=figuredir, Hcasefilename=\"locations\", Wcasefilename=\"attributes\")"
   ]
  }
 ],
 "metadata": {
  "kernelspec": {
   "display_name": "Julia 1.4.0",
   "language": "julia",
   "name": "julia-1.4"
  }
 },
 "nbformat": 4,
 "nbformat_minor": 4
}
