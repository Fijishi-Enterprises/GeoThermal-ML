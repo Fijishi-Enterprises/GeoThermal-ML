{
 "cells": [
  {
   "cell_type": "markdown",
   "metadata": {},
   "source": [
    "# NMFk on the Brady, NV geothermal data\n",
    "- Codes for the paper that we wrote for analyzing geothermal data for the Brady, NV site"
   ]
  },
  {
   "cell_type": "markdown",
   "metadata": {},
   "source": [
    "## Import required libraries for this work"
   ]
  },
  {
   "cell_type": "code",
   "execution_count": null,
   "metadata": {},
   "outputs": [],
   "source": [
    "import DelimitedFiles\n",
    "import NMFk\n",
    "import Gadfly"
   ]
  },
  {
   "cell_type": "markdown",
   "metadata": {},
   "source": [
    "## Set up depth, casename, # of NMFk runs, and attributes"
   ]
  },
  {
   "cell_type": "code",
   "execution_count": null,
   "metadata": {},
   "outputs": [],
   "source": [
    "depth = 750\n",
    "casename = \"set00-v9-inv\"\n",
    "nruns = 1000\n",
    "plotresults = isdefined(Main, :Cairo)\n",
    "attributes_process = [\"normal\", \"coulomb\", \"dilation\", \"faults\", \"td\", \"ts\", \"curve\", \"modeltemp\", \"faultdense\", \"faultintdense\", \"inv_distcontacts\", \"inv_distfaults\", \"unitthickness\", \"goodlith\"]"
   ]
  },
  {
   "cell_type": "markdown",
   "metadata": {},
   "source": [
    "## Read data, process the data, and normalize the data for NMFk run"
   ]
  },
  {
   "cell_type": "code",
   "execution_count": null,
   "metadata": {},
   "outputs": [],
   "source": [
    "attributes_short = [\"ID\", \"D\", \"azimuth\", \"incline\", \"x\", \"y\", \"z\", \"casing\", \"fluids\", \"use\", \"production\", \"use2\", \"lt750mstatus\", \"normal\", \"coulomb\", \"dilation\", \"faults\", \"td\", \"ts\", \"curve\", \"modeltemp\", \"faultdense\", \"faultintdense\", \"inv_distcontacts\", \"inv_distfaults\", \"unitthickness\", \"goodlith\", \"confidence\"]\n",
    "attributes_long = [\"ID\", \"Depth\", \"Azimuth\", \"Inclination\", \"X\", \"Y\", \"Z\", \"Casing\", \"Fluids\", \"use\", \"Production\", \"use2\", \"Status\", \"Normal stress\", \"Coulomb shear stress\", \"Dilation\", \"Faulting\", \"Fault dilation tendency\", \"Fault slip tendency\", \"Fault curvature\", \"Temperature\", \"Fault density\", \"Fault intersection density\", \"Inverse distance from contacts\", \"Inverse distance from faults\", \"Unit thickness\", \"Lithology\", \"Confidence\"]\n",
    "ai = indexin(attributes_process, attributes_short)\n",
    "pr = indexin([\"production\"], attributes_short)\n",
    "attributes_process_long = attributes_long[ai]\n",
    "\n",
    "d, h = DelimitedFiles.readdlm(\"data/AllBradyWells_LANL_ML_9.txt\", ','; header=true)\n",
    "\n",
    "global wellname = \"\"\n",
    "for i = 1:size(d, 1)\n",
    "\tif d[i, 1] != \"\"\n",
    "\t\tglobal wellname = d[i, 1]\n",
    "\telse\n",
    "\t\td[i, 1] = wellname\n",
    "\tend\n",
    "end\n",
    "\n",
    "d[d[:,24] .== \"\", 24] .= 0\n",
    "\n",
    "attributes_col = vec(permutedims(h))\n",
    "attributes = attributes_col[ai]\n",
    "\n",
    "for i=1:length(attributes_col); @info attributes_col[i], i; display([minimum(d[:,i]); maximum(d[:,i])]); end\n",
    "for i=1:length(attributes_col); @info attributes_col[i], i; display(unique(sort(d[:,i]))); end\n",
    "\n",
    "locations = unique(sort(d[:,1]))\n",
    "ii = convert.(Int64, round.(d[:,2]))\n",
    "zi = unique(sort(ii))\n",
    "\n",
    "xcoord = Vector{Float64}(undef, length(locations))\n",
    "ycoord = Vector{Float64}(undef, length(locations))\n",
    "production = Vector{String}(undef, length(locations))\n",
    "for (j, w) in enumerate(locations)\n",
    "\tiw = d[:, 1] .== w\n",
    "\ti = findmin(d[iw, 2])[2]\n",
    "\txcoord[j] = d[iw, 5][i]\n",
    "\tycoord[j] = d[iw, 6][i]\n",
    "\tproduction[j] = unique(d[iw, pr])[end]\n",
    "end\n",
    "\n",
    "welltype = Vector{Symbol}(undef, length(locations))\n",
    "for (j, w) in enumerate(locations)\n",
    "\tiw = d[:, 1] .== w\n",
    "\twelltype[j] = Symbol(unique(d[iw, indexin([\"lt750mstatus\"], attributes_short)])[1])\n",
    "end\n",
    "\n",
    "for i = ai\n",
    "\t@info attributes_col[i], i\n",
    "\tdisplay(unique(sort(convert.(Float64, d[:,i]))))\n",
    "end\n",
    "\n",
    "T = Array{Float64}(undef, length(zi), length(ai), length(locations))\n",
    "T .= NaN\n",
    "\n",
    "for w = 1:length(locations)\n",
    "\tiw = d[:, 1] .== locations[w]\n",
    "\tm = d[iw, ai]\n",
    "\tzw = ii[iw]\n",
    "\tfor z = 1:length(zw)\n",
    "\t\ta = vec(m[z, :])\n",
    "\t\ts = length(a)\n",
    "\t\tif s == 0\n",
    "\t\t\tcontinue\n",
    "\t\tend\n",
    "\t\tT[zw[z] + 1, 1:s, w] .= a\n",
    "\tend\n",
    "end\n",
    "\n",
    "\n",
    "Tn = deepcopy(T[1:depth,:,:])\n",
    "for a = 1:length(ai)\n",
    "\t# display(NMFk.plotmatrix(T[1:607,a,:]))\n",
    "\tTn[:,a,:], _, _ = NMFk.normalize!(Tn[:,a,:])\n",
    "\t# display(NMFk.plotmatrix(Tn[:,a,:]))\n",
    "end"
   ]
  },
  {
   "cell_type": "markdown",
   "metadata": {},
   "source": [
    "## Run NMFk on preprocessed data"
   ]
  },
  {
   "cell_type": "code",
   "execution_count": null,
   "metadata": {},
   "outputs": [],
   "source": [
    "nlocations = length(locations)\n",
    "hovertext = Vector{String}(undef, nlocations)\n",
    "for i = 1:nlocations\n",
    "\thovertext[i] = join(map(j->(\"$(attributes_process_long[j]): $(round(float.(NMFk.meannan(T[:,j,i])); sigdigits=3))<br>\"), 1:length(attributes_process_long)))\n",
    "end\n",
    "\n",
    "NMFk.plot_wells(\"map/dataset-$(casename).html\", xcoord, ycoord, String.(welltype); hover=locations .* \"<br>\" .* String.(welltype) .* \"<br>\" .* production .* \"<br>\" .* hovertext, title=\"Brady site: Data\")\n",
    "\n",
    "nkrange = 2:8\n",
    "figuredir = \"figures-$(casename)-$(depth)\"\n",
    "resultdir = \"results-$(casename)-$(depth)\"\n",
    "\n",
    "Xdaln = reshape(Tn, ((depth * length(attributes_process))), length(locations))\n",
    "W, H, fitquality, robustness, aic = NMFk.execute(Xdaln, nkrange, nruns; resultdir=resultdir, casefilename=\"nmfk-daln-$(join(size(Xdaln), '_'))\", load=true)\n",
    "W, H, fitquality, robustness, aic = NMFk.load(nkrange, nruns; resultdir=resultdir, casefilename=\"nmfk-daln-$(join(size(Xdaln), '_'))\")\n"
   ]
  },
  {
   "cell_type": "markdown",
   "metadata": {},
   "source": [
    "## Plot results"
   ]
  },
  {
   "cell_type": "code",
   "execution_count": null,
   "metadata": {},
   "outputs": [],
   "source": [
    "if plotresults\n",
    "\tNMFk.plot_signal_selecton(nkrange, fitquality, robustness; figuredir=\"$figuredir-$(nruns)-daln\")\n",
    "\tNMFk.clusterresults(unique(sort(vcat([4], NMFk.getks(nkrange, robustness[nkrange])))), W, H, attributes_process_long, locations; loadassignements=true, lon=xcoord, lat=ycoord, Wsize=depth, Wcasefilename=\"attributes\", Hcasefilename=\"locations\", resultdir=resultdir * \"-$(nruns)-daln\", figuredir=figuredir * \"-$(nruns)-daln\", hover=\"Well: \" .* locations .* \"<br>\" .* \"WellType: \" .* String.(welltype) .* \"<br>\" .* production, Wmatrix_font_size=4Gadfly.pt, biplotcolor=:WH, biplotlabel=:WH)\n",
    "end\n",
    "\n",
    "Xdlan = reshape(permutedims(Tn, (1,3,2)), ((depth * length(locations))), length(attributes_process))\n",
    "W, H, fitquality, robustness, aic = NMFk.execute(Xdlan, nkrange, nruns; resultdir=resultdir, casefilename=\"nmfk-dlan-$(join(size(Xdlan), '_'))\", load=true)\n",
    "W, H, fitquality, robustness, aic = NMFk.load(nkrange, nruns; resultdir=resultdir, casefilename=\"nmfk-dlan-$(join(size(Xdlan), '_'))\")\n",
    "if plotresults\n",
    "\tNMFk.plot_signal_selecton(nkrange, fitquality, robustness; figuredir=\"$figuredir-$(nruns)-dlan\")\n",
    "\tNMFk.clusterresults(unique(sort(vcat([4], NMFk.getks(nkrange, robustness[nkrange])))), W, H, locations, attributes_process_long; loadassignements=true, lon=xcoord, lat=ycoord, Wsize=depth, Wcasefilename=\"locations\", Hcasefilename=\"attributes\", resultdir=resultdir * \"-$(nruns)-dlan\", figuredir=figuredir * \"-$(nruns)-dlan\", hover=\"Well: \" .* locations .* \"<br>\" .* \"WellType: \" .* String.(welltype) .* \"<br>\" .* production, Wmatrix_font_size=4Gadfly.pt, biplotcolor=:WH, biplotlabel=:WH)\n",
    "end"
   ]
  }
 ],
 "metadata": {
  "kernelspec": {
   "display_name": "Julia 1.4.0",
   "language": "julia",
   "name": "julia-1.4"
  }
 },
 "nbformat": 4,
 "nbformat_minor": 4
}
